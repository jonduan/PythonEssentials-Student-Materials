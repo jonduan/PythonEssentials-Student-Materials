{
 "cells": [
  {
   "cell_type": "markdown",
   "metadata": {},
   "source": [
    "# Python Essentials: Data Visualization.\n",
    "    <Name>\n",
    "    <Class>\n",
    "    <Date>"
   ]
  },
  {
   "cell_type": "code",
   "execution_count": null,
   "metadata": {
    "collapsed": false
   },
   "outputs": [],
   "source": [
    "import numpy as np\n",
    "from scipy.stats import linregress\n",
    "from scipy.special import binom\n",
    "from matplotlib import rcParams, colors, pyplot as plt\n",
    "%matplotlib inline\n",
    "\n",
    "rcParams[\"figure.figsize\"] = (18,9)"
   ]
  },
  {
   "cell_type": "markdown",
   "metadata": {},
   "source": [
    "### Problem 1\n",
    "The file `anscombe.npy` contains Anscombe’s quartet.\n",
    "Plot each section of the quartet separately as a scatter plot.\n",
    "Also plot the regression line $y = \\frac{1}{2}x + 3$ on the domain $x \\in [0, 20]$ over each scatter plot.\n",
    "Write a few sentences describing what makes each section unique."
   ]
  },
  {
   "cell_type": "code",
   "execution_count": null,
   "metadata": {
    "collapsed": false,
    "scrolled": false
   },
   "outputs": [],
   "source": [
    "# Problem 1\n",
    "\n",
    "A = np.load(\"anscombe.npy\")\n",
    "\n"
   ]
  },
  {
   "cell_type": "markdown",
   "metadata": {},
   "source": [
    "Write a few sentences describing what makes each section unique."
   ]
  },
  {
   "cell_type": "markdown",
   "metadata": {},
   "source": [
    "### Problem 2\n",
    "The $n + 1$ Bernstein basis polynomials of degree $n$ are defined as follows.\n",
    "\n",
    "$$b_{n,v}(x) = \\binom{n}{v}x^v(1-x)^{n-v},\\quad v=0,\\ 1,\\ \\ldots,\\ n$$\n",
    "\n",
    "Plot at least the first $10$ Bernstein basis polynomials ($n = 0,\\ 1,\\ 2,\\ 3$) as\n",
    "small multiples on the domain $[0, 1] \\times [0, 1]$.\n",
    "Label the subplots for clarity, adjust tick marks and labels for simplicity, and set the window limits of\n",
    "each plot to be the same.\n",
    "Consider arranging the subplots so that the rows correspond with $n$ and the columns with $v$.\n",
    "\n",
    "Hint: The constant $\\binom{n}{v} = \\frac{n!}{v!(n-v)!}$ is called the binomial coefficient and can be efficiently computed with `scipy.special.binom()` or `scipy.misc.comb()`."
   ]
  },
  {
   "cell_type": "code",
   "execution_count": null,
   "metadata": {
    "collapsed": false
   },
   "outputs": [],
   "source": [
    "# Problem 2\n",
    "\n"
   ]
  },
  {
   "cell_type": "markdown",
   "metadata": {},
   "source": [
    "### Problem 3\n",
    "\n",
    "The file `MLB.npy` contains measurements from over 1,000 recent Major League Baseball players, compiled by UCLA.\n",
    "Each row in the array represents a different player; the columns are the player’s height (in inches), weight (in pounds), and age (in years), in that order.\n",
    "Describe the data with at least one scatter plot.\n",
    "Your graph(s) should demonstrate whether height, weight, or age correlated with each other in the MLB.\n",
    "Consider plotting linear regression lines to indicate trends."
   ]
  },
  {
   "cell_type": "code",
   "execution_count": null,
   "metadata": {
    "collapsed": false,
    "slideshow": {
     "slide_type": "slide"
    }
   },
   "outputs": [],
   "source": [
    "# Problem 3\n",
    "height, weight, age = np.load(\"MLB.npy\").T\n",
    "\n"
   ]
  },
  {
   "cell_type": "markdown",
   "metadata": {},
   "source": [
    "### Problem 4\n",
    "\n",
    "The file `earthquakes.npy` contains data from over 17,000 earthquakes between 2000 and 2010 that were at least a 5 on the Richter scale.\n",
    "Each row in the array represents a different earthquake; the columns are the earthquake’s date (as a fraction of the year), magnitude (on the Richter scale), longitude, and latitude, in that order.\n",
    "\n",
    "Describe the data with two or three better visualizations, including line plots, scatter plots, and histograms as appropriate.\n",
    "Your plots should clearly answer the following questions:\n",
    "1. How many earthquakes happened every year?\n",
    "2. How often do stronger earthquakes happen compared to weaker ones?\n",
    "3. Where do earthquakes happen? Where do the strongest earthquakes happen?\n",
    "\n",
    "Hint: Use `plt.axis(\"equal\")` to fix the aspect ratio, which may improve comparisons between longitude and latitude."
   ]
  },
  {
   "cell_type": "code",
   "execution_count": null,
   "metadata": {
    "collapsed": false,
    "scrolled": false
   },
   "outputs": [],
   "source": [
    "# Problem 4\n",
    "years, magnitudes, longitude, latitude = np.load(\"earthquakes.npy\").T\n",
    "\n"
   ]
  },
  {
   "cell_type": "markdown",
   "metadata": {},
   "source": [
    "### Problem 5\n",
    "\n",
    "The _Rosenbrock function_ is defined as follows. $$f(x,y)=(1−x)^2 +100(y−x^2)^2$$\n",
    "The minimum value of $f$ is $0$, which occurs at the point $(1, 1)$ at the bottom of a steep, banana-shaped valley of the function.\n",
    "Use heat maps and contour plots to visualize the Rosenbrock function in such a way that the minimum value, and the valley that it lies in, is apparent.\n",
    "Consider plotting the minimizer $(1, 1)$ on top of the plot as well."
   ]
  },
  {
   "cell_type": "code",
   "execution_count": null,
   "metadata": {
    "collapsed": false
   },
   "outputs": [],
   "source": [
    "# Problem 5\n",
    "rosen = lambda x,y: (1. - x)**2 + 100.*(y - x**2)**2\n",
    "\n"
   ]
  },
  {
   "cell_type": "markdown",
   "metadata": {},
   "source": [
    "### Problem 6\n",
    "\n",
    "The file `countries.npy` contains information from 20 different countries.\n",
    "Each row in the array represents a different country; the columns are the 2015 population (in millions of people), the 2015 GDP (in billions of US dollars), the average male height (in centimeters), and the average female height (in centimeters), in that order.\n",
    "\n",
    "Visualize this data set with at least four plots, using at least one scatter plot, one histogram, and one bar chart. Write a few sentences summarizing the major insights that your visualizations reveal.\n",
    "\n",
    "Hint: consider using `np.argsort()` and fancy indexing to sort the data for the bar chart."
   ]
  },
  {
   "cell_type": "code",
   "execution_count": null,
   "metadata": {
    "collapsed": false
   },
   "outputs": [],
   "source": [
    "# Problem 6\n",
    "countries = np.array(\n",
    "            [\"Austria\", \"Bolivia\", \"Brazil\", \"China\", \"Finland\",\n",
    "             \"Germany\", \"Hungary\", \"India\", \"Japan\", \"North Korea\",\n",
    "             \"Montenegro\", \"Norway\", \"Peru\", \"South Korea\", \"Sri Lanka\",\n",
    "             \"Switzerland\", \"Turkey\", \"United Kingdom\", \"United States\", \"Vietnam\"])\n",
    "population, gdp, male, female = np.load(\"countries.npy\").T\n",
    "\n"
   ]
  }
 ],
 "metadata": {
  "anaconda-cloud": {},
  "kernelspec": {
   "display_name": "Python [default]",
   "language": "python",
   "name": "python2"
  },
  "language_info": {
   "codemirror_mode": {
    "name": "ipython",
    "version": 2
   },
   "file_extension": ".py",
   "mimetype": "text/x-python",
   "name": "python",
   "nbconvert_exporter": "python",
   "pygments_lexer": "ipython2",
   "version": "2.7.12"
  }
 },
 "nbformat": 4,
 "nbformat_minor": 0
}
