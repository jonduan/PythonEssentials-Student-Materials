{
 "cells": [
  {
   "cell_type": "markdown",
   "metadata": {},
   "source": [
    "<img src=\"https://avatars3.githubusercontent.com/u/7388996?v=3&s=200\" alt=\"Drawing\" align=\"left\" style=\"width: 120px;\"/>\n",
    "\n",
    "# Welcome to Jupyter\n",
    "\n",
    "Jupyter (also known as IPython Notebook) is an application that allows you to write, run, and present your Python code all in the same place.\n",
    "\n",
    "Along with just writing code, in Jupyter you can also embed text, LaTeX, images and sound files. This tutorial will help you understand the basics of using a Jupyter notebook."
   ]
  },
  {
   "cell_type": "markdown",
   "metadata": {},
   "source": [
    "## Cells\n",
    "A Jupyter notebooks consists of seperate sections, called cells. There are different kinds of cells, such as markdown cells and code cells. Markdown cells contain text, like this one. Code cells contains Python code which can be executed within the notebook. Each cell can be run independently of any other cell. When a cell is run, its output will be displayed directly after it.\n",
    "\n",
    "Try running the cell below by pressing ```Shift + Enter``` or by clicking the run button on the tool bar above."
   ]
  },
  {
   "cell_type": "code",
   "execution_count": null,
   "metadata": {
    "collapsed": false
   },
   "outputs": [],
   "source": [
    "# This code calculates 10!\n",
    "\n",
    "def factorial(n):\n",
    "    if n == 1:\n",
    "        return 1\n",
    "    else:\n",
    "        return n * factorial(n - 1)\n",
    "    \n",
    "print factorial(10)"
   ]
  },
  {
   "cell_type": "markdown",
   "metadata": {},
   "source": [
    "Let's explore some of the useful characteristics of code cells.\n",
    "\n",
    "Start by running the cell below:"
   ]
  },
  {
   "cell_type": "code",
   "execution_count": null,
   "metadata": {
    "collapsed": false
   },
   "outputs": [],
   "source": [
    "x = 50\n",
    "print x"
   ]
  },
  {
   "cell_type": "markdown",
   "metadata": {},
   "source": [
    "The output should be 50.\n",
    "\n",
    "Now run the next cell:"
   ]
  },
  {
   "cell_type": "code",
   "execution_count": null,
   "metadata": {
    "collapsed": false
   },
   "outputs": [],
   "source": [
    "x = x * 2\n",
    "print x"
   ]
  },
  {
   "cell_type": "markdown",
   "metadata": {},
   "source": [
    "The output should now be be 100. Try running it again. \n",
    "\n",
    "Now it outputs 200. The value of x has been updated. Every time you run a cell, the Python interpreter remembers the values of each variable from the previously-run cells. This allows you to use the results from previous cells later in the notebook.\n",
    "\n",
    "This feature makes it especially important to be aware of which cells you have run. It is easier to accidentally change the value of a cell and then get unexpected result in your code later on.\n",
    "\n",
    "Just like IPython, next to each code cell in the notebook is a prompt with a specific number, for example, \"```In [5]:```\". The number here denotes when the cell was run in relation to other cells. These numbers are useful for remembering which cells have been run most recently.\n",
    "\n",
    "Up until this point we have used ```print``` show output from cell. Jupyter will also display the value of a variable, function or conditional statement if it is on the last nonempty line of the cell.\n",
    "\n",
    "To see this, run the next cell:"
   ]
  },
  {
   "cell_type": "code",
   "execution_count": null,
   "metadata": {
    "collapsed": false
   },
   "outputs": [],
   "source": [
    "print \"The value of x is \"\n",
    "\n",
    "x"
   ]
  },
  {
   "cell_type": "markdown",
   "metadata": {},
   "source": [
    "Notice that ```Out[ ]``` is displayed next to the value and not next to the print statement. When a value is output in this way, the output can be accessed even when the value of the variable has changed. The term ```Out[ ]``` with the associated number is itself a variable, and can be used to access the original output.\n",
    "\n",
    "\n",
    "Sometimes programs can take a long time to run. While a cell is running, ```In [*]:``` will be displayed beside it.\n",
    "\n",
    "To see this, try running the loop below:"
   ]
  },
  {
   "cell_type": "code",
   "execution_count": null,
   "metadata": {
    "collapsed": false
   },
   "outputs": [],
   "source": [
    "while True:\n",
    "    x += 1"
   ]
  },
  {
   "cell_type": "markdown",
   "metadata": {},
   "source": [
    "Python is now stuck in an infinite loop. However, you don't have to close the whole program to stop it. To interrupt the loop, press the \"stop\" button in the menu bar, or choose \"Interrupt\" from the Kernel menu. This is equivalent to pressing ```ctrl-C``` in iPython.\n",
    "\n",
    "Now run the cell below to see how much has been added to x during the loop:"
   ]
  },
  {
   "cell_type": "code",
   "execution_count": null,
   "metadata": {
    "collapsed": false
   },
   "outputs": [],
   "source": [
    "x"
   ]
  },
  {
   "cell_type": "markdown",
   "metadata": {},
   "source": [
    "## Kernel\n",
    "The Python interpreter is sometimes called the \"Kernel\". Sometimes while coding you may want to clear the values of variables in your program. This is called restarting the kernel. \n",
    "\n",
    "Try this by clicking on the Kernel menu at the top and selecting \"Restart\". This has a similar effect of re-running a program in Python. Now try re-running the cell above.\n",
    "\n",
    "This cell now throws an error. Since the kernel has been restarted, x no longer has a value. Re-run the cell where x is initialized, and then re-run the cell that gave the error. Now it should print 50.\n",
    "\n",
    "Once you have reset the kernel, you can re-run each cell manually, or run them all at once. This is done by choosing \"Run All\" from the Cell menu."
   ]
  },
  {
   "cell_type": "markdown",
   "metadata": {},
   "source": [
    "## Images\n",
    "\n",
    "When displaying graphs or images in iPython, the images is generated in a pop-up window. However, Jupyter allows you to display images between cells, inline with the code. Do use this feature, simply run the code in the next cell in your notebook:\n"
   ]
  },
  {
   "cell_type": "code",
   "execution_count": null,
   "metadata": {
    "collapsed": true
   },
   "outputs": [],
   "source": [
    "%matplotlib inline"
   ]
  },
  {
   "cell_type": "markdown",
   "metadata": {},
   "source": [
    "This command itself does not display a plot, but allows the plot to be displayed inline later. If you want your plot to be interactive instead of inline, run this command instead:\n",
    "\n",
    "```python\n",
    "%matplotlib notebook\n",
    "```\n",
    "\n",
    "Creating plots in Python usually requires us to import modules such as numpy and matplotlib. In Jupyter notebooks it is customary to put all import statements in their own seperate cell, at the top of the notebook.\n",
    "\n",
    "Run the cell below to import these libraries:"
   ]
  },
  {
   "cell_type": "code",
   "execution_count": null,
   "metadata": {
    "collapsed": true
   },
   "outputs": [],
   "source": [
    "import matplotlib.pyplot as plt\n",
    "import numpy as np"
   ]
  },
  {
   "cell_type": "markdown",
   "metadata": {},
   "source": [
    "Now run the code below to create a plot:"
   ]
  },
  {
   "cell_type": "code",
   "execution_count": null,
   "metadata": {
    "collapsed": false,
    "scrolled": true
   },
   "outputs": [],
   "source": [
    "# Creates a graph of cos(pi*x)\n",
    "\n",
    "x = np.linspace(-2,2,100)\n",
    "y = np.cos(x*np.pi)\n",
    "\n",
    "plt.plot(x,y)\n",
    "plt.title(\"A Beautiful Cosine Wave\")\n",
    "plt.show()"
   ]
  },
  {
   "cell_type": "markdown",
   "metadata": {},
   "source": [
    "Now try making your plot interactive by changing \"```%matplotlib inline```\" to \"```%matplotlib notebook```\". Re-run this cell and then re-run the cell the created the plot. Now you can zoom in and out on your plot, or even save it as a file on your computer."
   ]
  },
  {
   "cell_type": "markdown",
   "metadata": {},
   "source": [
    "## Sound Files\n",
    "\n",
    "Just as with images, it is simple to embed sound clips into a Jupyter Notebook. To do this, import the \"IPython\" module and run the command given in the code cell below. For this to work you must have the specified file saved in the same place as the notebook, or else include a path to the correct location of the file.\n",
    "\n",
    "Run the cell below. The output is an interactive playback bar."
   ]
  },
  {
   "cell_type": "code",
   "execution_count": null,
   "metadata": {
    "collapsed": false
   },
   "outputs": [],
   "source": [
    "# Embeds a sound file into your notebook\n",
    "\n",
    "import IPython\n",
    "IPython.display.Audio('chopin.wav')"
   ]
  },
  {
   "cell_type": "markdown",
   "metadata": {
    "collapsed": true
   },
   "source": [
    "# Additional Information"
   ]
  },
  {
   "cell_type": "markdown",
   "metadata": {},
   "source": [
    "## Creating a new Jupyter Notebook\n",
    "\n",
    "Now that you know how to use a Jupyter Notebook, here are some steps for creating your own:\n",
    "\n",
    "1. Install Anaconda if you do not already have it. Anaconda is a package which contains Jupyter, Python, many Python modules and other useful tools.\n",
    "\n",
    "2. Run Jupyter Notebook by typing \"jupyter notebook\" into the terminal. This will open a new tab in your web browser with your computer's file explore. The command \"ipython notebook\" will also work, but it will give a warning.\n",
    "\n",
    "3. Move into the folder where you would like to create a notebook.\n",
    "\n",
    "4. Click the \"New\" menu in the top right corner and select \"Python\" under the category \"Notebooks\". This will open an empty Jupyter Notebook.\n",
    "\n",
    "5. Your notebook will automatically be named \"Untitled\". To rename it, click on the title at the top next to the Jupyter logo. This will open a pop-up where you can enter a new name.\n",
    "\n",
    "6. To add cells to your program, click on the plus sign in the tool bar or use the Insert menu.\n",
    "\n",
    "## Closing Jupyter\n",
    "\n",
    "Closing the browser containing your Jupyter notebook will neither close the Jupyter Notebook App nor shut down the kernel. To do this you must either close the terminal associated with it, or interrupt it by typing ```Ctrl+C```."
   ]
  },
  {
   "cell_type": "markdown",
   "metadata": {
    "collapsed": true
   },
   "source": [
    "## Python Help\n",
    "\n",
    "Jupyter has several useful features to aid users code in python. To view the docstring for a data structure, function or module, type the name of the object followed by a question mark, and run the cell. A resizable help panel will appear at the bottom of the screen.\n",
    "\n",
    "Try this by running the next cell:"
   ]
  },
  {
   "cell_type": "code",
   "execution_count": null,
   "metadata": {
    "collapsed": false
   },
   "outputs": [],
   "source": [
    "# View the docstring about the dictionary data structure\n",
    "dict?"
   ]
  },
  {
   "cell_type": "markdown",
   "metadata": {},
   "source": [
    "You can also view all the member functions of an object by pressing ```tab``` after typing the period after an object. \n",
    "\n",
    "Similarly, you can view what arguments a function takes by pressing ```shift + tab``` while inside the paretheses of the function."
   ]
  },
  {
   "cell_type": "code",
   "execution_count": null,
   "metadata": {
    "collapsed": false
   },
   "outputs": [],
   "source": [
    "# Press tab while the cursor is at the end of the next line to view all member function of a list\n",
    "list.\n",
    "\n",
    "# Press shift + tab while the cursor is inside the parentheses to view argument types of list.insert\n",
    "list.insert()"
   ]
  },
  {
   "cell_type": "markdown",
   "metadata": {},
   "source": [
    "## Markdown Cells\n",
    "\n",
    "Cells which contain text are called \"markdown\" cells. In markdown cells acutally use a text formatting language called markdown. To make a cell into a markdown cell, choose the option \"Markdown\" from the drop down menu on the tool bar above. \n",
    "\n",
    "Markdown cells are run in the same way as code cells: by pressing ```shift + enter```. Once a markdown cell has been run, it appears as plain text. To edit a markdown cell, double click on it.\n",
    "\n",
    "### Headings\n",
    "Markdown cells can contain headings and subheadings to keep writing organized. To create a heading, type from one to six ```#```s at the beginning of a line followed by a space and the name of your heading. Jupyter will automatically change the font size of the heading and turn it blue for visability. \n",
    "\n",
    "Markdown has 6 different levels of headings. Below are some examples of different headings. The cell below contains the largest of these headings. Double click on this cell see how these different were created.\n",
    "\n"
   ]
  },
  {
   "cell_type": "markdown",
   "metadata": {
    "collapsed": true
   },
   "source": [
    "# Heading 1\n",
    "## Heading 2\n",
    "##### Heading 5"
   ]
  },
  {
   "cell_type": "markdown",
   "metadata": {},
   "source": [
    "### LaTeX\n",
    "To embed LaTeX formatting in a markdown cell, surround the command with either ```$``` or ```$$```. The single dollar sign puts it inline witht the text, the the double dollar sign centers it below the text. Here is an example of a centered LaTeX command:\n",
    "\n",
    "$$F(x) = \\int_{0}^{\\infty} e^{-x} dx$$"
   ]
  },
  {
   "cell_type": "markdown",
   "metadata": {},
   "source": [
    "## Keyboard Shortcuts\n",
    "\n",
    "Jupyter has a large number of keyboard shortcuts that can make coding easier. To view these, click on \"Keyboard Shortcuts\" from the Help menu."
   ]
  },
  {
   "cell_type": "code",
   "execution_count": null,
   "metadata": {
    "collapsed": true
   },
   "outputs": [],
   "source": []
  }
 ],
 "metadata": {
  "kernelspec": {
   "display_name": "Python 2",
   "language": "python",
   "name": "python2"
  },
  "language_info": {
   "codemirror_mode": {
    "name": "ipython",
    "version": 2
   },
   "file_extension": ".py",
   "mimetype": "text/x-python",
   "name": "python",
   "nbconvert_exporter": "python",
   "pygments_lexer": "ipython2",
   "version": "2.7.11"
  }
 },
 "nbformat": 4,
 "nbformat_minor": 0
}
